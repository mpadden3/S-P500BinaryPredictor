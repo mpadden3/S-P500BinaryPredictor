{
 "cells": [
  {
   "cell_type": "code",
   "execution_count": 1,
   "metadata": {
    "collapsed": true
   },
   "outputs": [],
   "source": [
    "import fix_yahoo_finance as yf"
   ]
  },
  {
   "cell_type": "code",
   "execution_count": 2,
   "metadata": {
    "collapsed": false
   },
   "outputs": [
    {
     "name": "stdout",
     "output_type": "stream",
     "text": [
      "Populating the interactive namespace from numpy and matplotlib\n"
     ]
    }
   ],
   "source": [
    "%pylab inline"
   ]
  },
  {
   "cell_type": "code",
   "execution_count": 18,
   "metadata": {
    "collapsed": false
   },
   "outputs": [
    {
     "name": "stdout",
     "output_type": "stream",
     "text": [
      "[*********************100%***********************]  1 of 1 downloaded\n"
     ]
    },
    {
     "name": "stderr",
     "output_type": "stream",
     "text": [
      "/Users/MikePadden/anaconda/lib/python3.6/site-packages/ipykernel/__main__.py:10: FutureWarning: \n",
      "Panel is deprecated and will be removed in a future version.\n",
      "The recommended way to represent these types of 3-dimensional data are with a MultiIndex on a DataFrame, via the Panel.to_frame() method\n",
      "Alternatively, you can use the xarray package http://xarray.pydata.org/en/stable/.\n",
      "Pandas provides a `.to_xarray()` method to help automate this conversion.\n",
      "\n",
      "/Users/MikePadden/anaconda/lib/python3.6/site-packages/fix_yahoo_finance/__init__.py:199: FutureWarning: \n",
      "Panel is deprecated and will be removed in a future version.\n",
      "The recommended way to represent these types of 3-dimensional data are with a MultiIndex on a DataFrame, via the Panel.to_frame() method\n",
      "Alternatively, you can use the xarray package http://xarray.pydata.org/en/stable/.\n",
      "Pandas provides a `.to_xarray()` method to help automate this conversion.\n",
      "\n",
      "  data = data.swapaxes(0, 2)\n"
     ]
    }
   ],
   "source": [
    "import pandas as pd\n",
    "pd.core.common.is_list_like = pd.api.types.is_list_like\n",
    "from pandas_datareader import data as pdr\n",
    "\n",
    "import fix_yahoo_finance as yf\n",
    "yf.pdr_override() # <== that's all it takes :-)\n",
    "\n",
    "\n",
    "# download dataframe\n",
    "data = pdr.get_data_yahoo(\"^GSPC\", start=\"2011-01-01\", end=\"2018-01-01\")\n"
   ]
  },
  {
   "cell_type": "code",
   "execution_count": null,
   "metadata": {
    "collapsed": false
   },
   "outputs": [],
   "source": []
  },
  {
   "cell_type": "code",
   "execution_count": 23,
   "metadata": {
    "collapsed": false
   },
   "outputs": [
    {
     "ename": "KeyError",
     "evalue": "\"['Adj Close' 'Volume'] not found in axis\"",
     "output_type": "error",
     "traceback": [
      "\u001b[0;31m---------------------------------------------------------------------------\u001b[0m",
      "\u001b[0;31mKeyError\u001b[0m                                  Traceback (most recent call last)",
      "\u001b[0;32m<ipython-input-23-791752dcfde1>\u001b[0m in \u001b[0;36m<module>\u001b[0;34m()\u001b[0m\n\u001b[0;32m----> 1\u001b[0;31m \u001b[0mdata\u001b[0m\u001b[0;34m=\u001b[0m\u001b[0mdata\u001b[0m\u001b[0;34m.\u001b[0m\u001b[0mdrop\u001b[0m\u001b[0;34m(\u001b[0m\u001b[0;34m[\u001b[0m\u001b[0;34m'Adj Close'\u001b[0m\u001b[0;34m,\u001b[0m\u001b[0;34m'Volume'\u001b[0m\u001b[0;34m]\u001b[0m\u001b[0;34m,\u001b[0m \u001b[0maxis\u001b[0m\u001b[0;34m=\u001b[0m\u001b[0;36m1\u001b[0m\u001b[0;34m)\u001b[0m\u001b[0;34m\u001b[0m\u001b[0m\n\u001b[0m",
      "\u001b[0;32m/Users/MikePadden/anaconda/lib/python3.6/site-packages/pandas/core/frame.py\u001b[0m in \u001b[0;36mdrop\u001b[0;34m(self, labels, axis, index, columns, level, inplace, errors)\u001b[0m\n\u001b[1;32m   3695\u001b[0m                                            \u001b[0mindex\u001b[0m\u001b[0;34m=\u001b[0m\u001b[0mindex\u001b[0m\u001b[0;34m,\u001b[0m \u001b[0mcolumns\u001b[0m\u001b[0;34m=\u001b[0m\u001b[0mcolumns\u001b[0m\u001b[0;34m,\u001b[0m\u001b[0;34m\u001b[0m\u001b[0m\n\u001b[1;32m   3696\u001b[0m                                            \u001b[0mlevel\u001b[0m\u001b[0;34m=\u001b[0m\u001b[0mlevel\u001b[0m\u001b[0;34m,\u001b[0m \u001b[0minplace\u001b[0m\u001b[0;34m=\u001b[0m\u001b[0minplace\u001b[0m\u001b[0;34m,\u001b[0m\u001b[0;34m\u001b[0m\u001b[0m\n\u001b[0;32m-> 3697\u001b[0;31m                                            errors=errors)\n\u001b[0m\u001b[1;32m   3698\u001b[0m \u001b[0;34m\u001b[0m\u001b[0m\n\u001b[1;32m   3699\u001b[0m     @rewrite_axis_style_signature('mapper', [('copy', True),\n",
      "\u001b[0;32m/Users/MikePadden/anaconda/lib/python3.6/site-packages/pandas/core/generic.py\u001b[0m in \u001b[0;36mdrop\u001b[0;34m(self, labels, axis, index, columns, level, inplace, errors)\u001b[0m\n\u001b[1;32m   3109\u001b[0m         \u001b[0;32mfor\u001b[0m \u001b[0maxis\u001b[0m\u001b[0;34m,\u001b[0m \u001b[0mlabels\u001b[0m \u001b[0;32min\u001b[0m \u001b[0maxes\u001b[0m\u001b[0;34m.\u001b[0m\u001b[0mitems\u001b[0m\u001b[0;34m(\u001b[0m\u001b[0;34m)\u001b[0m\u001b[0;34m:\u001b[0m\u001b[0;34m\u001b[0m\u001b[0m\n\u001b[1;32m   3110\u001b[0m             \u001b[0;32mif\u001b[0m \u001b[0mlabels\u001b[0m \u001b[0;32mis\u001b[0m \u001b[0;32mnot\u001b[0m \u001b[0;32mNone\u001b[0m\u001b[0;34m:\u001b[0m\u001b[0;34m\u001b[0m\u001b[0m\n\u001b[0;32m-> 3111\u001b[0;31m                 \u001b[0mobj\u001b[0m \u001b[0;34m=\u001b[0m \u001b[0mobj\u001b[0m\u001b[0;34m.\u001b[0m\u001b[0m_drop_axis\u001b[0m\u001b[0;34m(\u001b[0m\u001b[0mlabels\u001b[0m\u001b[0;34m,\u001b[0m \u001b[0maxis\u001b[0m\u001b[0;34m,\u001b[0m \u001b[0mlevel\u001b[0m\u001b[0;34m=\u001b[0m\u001b[0mlevel\u001b[0m\u001b[0;34m,\u001b[0m \u001b[0merrors\u001b[0m\u001b[0;34m=\u001b[0m\u001b[0merrors\u001b[0m\u001b[0;34m)\u001b[0m\u001b[0;34m\u001b[0m\u001b[0m\n\u001b[0m\u001b[1;32m   3112\u001b[0m \u001b[0;34m\u001b[0m\u001b[0m\n\u001b[1;32m   3113\u001b[0m         \u001b[0;32mif\u001b[0m \u001b[0minplace\u001b[0m\u001b[0;34m:\u001b[0m\u001b[0;34m\u001b[0m\u001b[0m\n",
      "\u001b[0;32m/Users/MikePadden/anaconda/lib/python3.6/site-packages/pandas/core/generic.py\u001b[0m in \u001b[0;36m_drop_axis\u001b[0;34m(self, labels, axis, level, errors)\u001b[0m\n\u001b[1;32m   3141\u001b[0m                 \u001b[0mnew_axis\u001b[0m \u001b[0;34m=\u001b[0m \u001b[0maxis\u001b[0m\u001b[0;34m.\u001b[0m\u001b[0mdrop\u001b[0m\u001b[0;34m(\u001b[0m\u001b[0mlabels\u001b[0m\u001b[0;34m,\u001b[0m \u001b[0mlevel\u001b[0m\u001b[0;34m=\u001b[0m\u001b[0mlevel\u001b[0m\u001b[0;34m,\u001b[0m \u001b[0merrors\u001b[0m\u001b[0;34m=\u001b[0m\u001b[0merrors\u001b[0m\u001b[0;34m)\u001b[0m\u001b[0;34m\u001b[0m\u001b[0m\n\u001b[1;32m   3142\u001b[0m             \u001b[0;32melse\u001b[0m\u001b[0;34m:\u001b[0m\u001b[0;34m\u001b[0m\u001b[0m\n\u001b[0;32m-> 3143\u001b[0;31m                 \u001b[0mnew_axis\u001b[0m \u001b[0;34m=\u001b[0m \u001b[0maxis\u001b[0m\u001b[0;34m.\u001b[0m\u001b[0mdrop\u001b[0m\u001b[0;34m(\u001b[0m\u001b[0mlabels\u001b[0m\u001b[0;34m,\u001b[0m \u001b[0merrors\u001b[0m\u001b[0;34m=\u001b[0m\u001b[0merrors\u001b[0m\u001b[0;34m)\u001b[0m\u001b[0;34m\u001b[0m\u001b[0m\n\u001b[0m\u001b[1;32m   3144\u001b[0m             \u001b[0mresult\u001b[0m \u001b[0;34m=\u001b[0m \u001b[0mself\u001b[0m\u001b[0;34m.\u001b[0m\u001b[0mreindex\u001b[0m\u001b[0;34m(\u001b[0m\u001b[0;34m**\u001b[0m\u001b[0;34m{\u001b[0m\u001b[0maxis_name\u001b[0m\u001b[0;34m:\u001b[0m \u001b[0mnew_axis\u001b[0m\u001b[0;34m}\u001b[0m\u001b[0;34m)\u001b[0m\u001b[0;34m\u001b[0m\u001b[0m\n\u001b[1;32m   3145\u001b[0m \u001b[0;34m\u001b[0m\u001b[0m\n",
      "\u001b[0;32m/Users/MikePadden/anaconda/lib/python3.6/site-packages/pandas/core/indexes/base.py\u001b[0m in \u001b[0;36mdrop\u001b[0;34m(self, labels, errors)\u001b[0m\n\u001b[1;32m   4402\u001b[0m             \u001b[0;32mif\u001b[0m \u001b[0merrors\u001b[0m \u001b[0;34m!=\u001b[0m \u001b[0;34m'ignore'\u001b[0m\u001b[0;34m:\u001b[0m\u001b[0;34m\u001b[0m\u001b[0m\n\u001b[1;32m   4403\u001b[0m                 raise KeyError(\n\u001b[0;32m-> 4404\u001b[0;31m                     '{} not found in axis'.format(labels[mask]))\n\u001b[0m\u001b[1;32m   4405\u001b[0m             \u001b[0mindexer\u001b[0m \u001b[0;34m=\u001b[0m \u001b[0mindexer\u001b[0m\u001b[0;34m[\u001b[0m\u001b[0;34m~\u001b[0m\u001b[0mmask\u001b[0m\u001b[0;34m]\u001b[0m\u001b[0;34m\u001b[0m\u001b[0m\n\u001b[1;32m   4406\u001b[0m         \u001b[0;32mreturn\u001b[0m \u001b[0mself\u001b[0m\u001b[0;34m.\u001b[0m\u001b[0mdelete\u001b[0m\u001b[0;34m(\u001b[0m\u001b[0mindexer\u001b[0m\u001b[0;34m)\u001b[0m\u001b[0;34m\u001b[0m\u001b[0m\n",
      "\u001b[0;31mKeyError\u001b[0m: \"['Adj Close' 'Volume'] not found in axis\""
     ]
    }
   ],
   "source": [
    "data=data.drop(['Adj Close','Volume'], axis=1)\n"
   ]
  },
  {
   "cell_type": "code",
   "execution_count": 24,
   "metadata": {
    "collapsed": true
   },
   "outputs": [],
   "source": [
    "# calculate momentum for each day\n",
    "# 5-day momentum\n",
    "\n",
    "def momentum(df):\n",
    "    n = len(df)\n",
    "    arr = []\n",
    "    for i in range(0,5):\n",
    "        arr.append('N')\n",
    "    for j in range(5,n):\n",
    "        momentum = df.Close[j] - df.Close[j-5] #Equation for momentum\n",
    "        arr.append(momentum)\n",
    "    return arr\n",
    "\n",
    "momentum = momentum(data)\n",
    "\n",
    "# add momentum to data\n",
    "data['Momentum'] = momentum"
   ]
  },
  {
   "cell_type": "code",
   "execution_count": 25,
   "metadata": {
    "collapsed": false
   },
   "outputs": [],
   "source": [
    "#Use pct_change() function to add the one day returns to the dataframe \n",
    "\n",
    "data_pctchange=data.Close.pct_change()\n",
    "data['Return'] = data_pctchange"
   ]
  },
  {
   "cell_type": "code",
   "execution_count": 26,
   "metadata": {
    "collapsed": false
   },
   "outputs": [],
   "source": [
    "#ROI function\n",
    "\n",
    "def ROI(df,n):\n",
    "    m = len(df)\n",
    "    arr = []\n",
    "    for i in range(0,n):\n",
    "        arr.append('N')\n",
    "    for j in range(n,m):\n",
    "        roi= (df.Close[j] - df.Close[j-n])/df.Close[j-n] #Equation for ROI\n",
    "        arr.append(roi)\n",
    "    return arr\n",
    "\n",
    "#Run the ROI function for 10, 20, and 30 day periods\n",
    "\n",
    "ROI10=ROI(data,10)\n",
    "ROI20=ROI(data,20)\n",
    "ROI30=ROI(data,30)\n",
    "\n",
    "\n",
    "#Add all 3 ROI results to dataframe \n",
    "\n",
    "data['10 Day ROI']=ROI10\n",
    "data['20 Day ROI']=ROI20\n",
    "data['30 Day ROI']=ROI30"
   ]
  },
  {
   "cell_type": "code",
   "execution_count": 27,
   "metadata": {
    "collapsed": false
   },
   "outputs": [],
   "source": [
    "# calculate RSI for each day\n",
    "\n",
    "\n",
    "def RSI(df,period):\n",
    "    # get average of upwards of last 14 days: Ct - Ct-1\n",
    "    # get average of downwards of last 14 days: Ct-1 - Ct\n",
    "    n = len(df)\n",
    "    arr = []\n",
    "    for i in range(0,period):\n",
    "        arr.append('N')\n",
    "    for j in range(period,n):\n",
    "        total_upwards = 0\n",
    "        total_downwards = 0\n",
    "        # this will find average of upwards\n",
    "        for k in range(j,j-period,-1):\n",
    "            if(df.Close[k-1] > df.Close[k]):\n",
    "                total_downwards = total_downwards + (df.Close[k-1] - df.Close[k])    \n",
    "        avg_down = total_downwards / period\n",
    "        for l in range(j,j-period,-1):\n",
    "            if(df.Close[l] > df.Close[l-1]):\n",
    "                total_upwards = total_upwards + (df.Close[l] - df.Close[l-1])\n",
    "        avg_up = total_upwards / period\n",
    "        RS = avg_up / avg_down\n",
    "        RSI  = 100 - (100/(1+RS))\n",
    "        arr.append(RSI)\n",
    "    return arr\n",
    "\n",
    "\n",
    "#Run RSI for 10, 14, and 30 day periods\n",
    "\n",
    "RSI_14 = RSI(data,14)\n",
    "RSI_10 = RSI(data,10)\n",
    "RSI_30 = RSI(data,30)\n",
    "\n",
    "# add RSI to data\n",
    "\n",
    "data['10_day_RSI'] = RSI_10\n",
    "data['14_day_RSI'] = RSI_14\n",
    "data['30_day_RSI'] = RSI_30"
   ]
  },
  {
   "cell_type": "code",
   "execution_count": 28,
   "metadata": {
    "collapsed": false
   },
   "outputs": [],
   "source": [
    "# calculate EMA for each day\n",
    "# formula: EMA = (2/(n+1))*ClosePrice + (1-(2/(n+1)))*previousEMA\n",
    "\n",
    "def EMA(df, n):\n",
    "    m = len(df)\n",
    "    arr = []\n",
    "    arr.append('N')\n",
    "    prevEMA = df.Close[0]\n",
    "    for i in range(1,m):\n",
    "        close = df.Close[i]\n",
    "        EMA = ((2/(n+1))*close) + ((1-(2/(n+1)))*prevEMA)\n",
    "        arr.append(EMA)\n",
    "        prevEMA = EMA\n",
    "    return arr\n",
    "\n",
    "#Calculate EMA with n=12 and n=26\n",
    "\n",
    "EMA_12 = EMA(data, 12)\n",
    "EMA_26 = EMA(data, 26)\n",
    "\n",
    "#add EMA to dataframe \n",
    "\n",
    "data['EMA_12'] = EMA_12\n",
    "data['EMA_26'] = EMA_26"
   ]
  },
  {
   "cell_type": "code",
   "execution_count": 29,
   "metadata": {
    "collapsed": false
   },
   "outputs": [],
   "source": [
    "#Function to Classify each day as a 1 or a 0\n",
    "\n",
    "def clas(df):\n",
    "    n = len(df)\n",
    "    arr = []\n",
    "    for i in range(0,len(df)-1):\n",
    "        if (100*((df.Close[i+1]-df.Open[i+1])/df.Open[i+1]))>=.3:\n",
    "            arr.append(1)\n",
    "        else:\n",
    "            arr.append(0)\n",
    "    arr.append('N')\n",
    "    return arr\n",
    "\n",
    "clas=clas(data)\n",
    "\n",
    "#Add Class to our dataframe\n",
    "data['Class'] = clas"
   ]
  },
  {
   "cell_type": "code",
   "execution_count": 30,
   "metadata": {
    "collapsed": false
   },
   "outputs": [],
   "source": [
    "#MACD\n",
    "# Moving Average of EMA(n) - EMA(m2) for each row\n",
    "# where n = 12 and m2 = 26\n",
    "def MACD(df):\n",
    "    n = 12\n",
    "    m2 = 26\n",
    "    arr = []\n",
    "    arr.append('N')\n",
    "    ema_12 = EMA(df,n)\n",
    "    ema_26 = EMA(df,m2)\n",
    "    m = len(df)\n",
    "    for i in range(1,m):\n",
    "        arr.append(ema_12[i] - ema_26[i])\n",
    "    return arr\n",
    "\n",
    "MACD = MACD(data)\n",
    "\n",
    "#Add MACD to our dataframe \n",
    "data['MACD_12_26'] = MACD"
   ]
  },
  {
   "cell_type": "code",
   "execution_count": 31,
   "metadata": {
    "collapsed": true
   },
   "outputs": [],
   "source": [
    "#SRSI: Stochastic RSI\n",
    "#SRSI = (RSI_today - min(RSI_past_n)) / (max(RSI_past_n) - min(RSI_past_n))\n",
    "def SRSI(df,n):\n",
    "    m = len(df)\n",
    "    arr = []\n",
    "    list_RSI = RSI(df,n)\n",
    "    for i in range(0,n):\n",
    "        arr.append('N')\n",
    "    for j in range(n,n+n):\n",
    "        last_n = list_RSI[n:j]\n",
    "        if(not(last_n == []) and not(max(last_n) == min(last_n))):\n",
    "            SRSI = (list_RSI[j] - min(last_n)) / (max(last_n)- min(last_n))\n",
    "            if SRSI > 1:\n",
    "                arr.append(1)\n",
    "            else:\n",
    "                arr.append(SRSI)\n",
    "        else:\n",
    "            arr.append(0)\n",
    "    for j in range(n+n,m):\n",
    "        last_n = list_RSI[2*n:j]\n",
    "        if(not(last_n == []) and not(max(last_n) == min(last_n))):\n",
    "            SRSI = (list_RSI[j] - min(last_n)) / (max(last_n)- min(last_n))\n",
    "            if SRSI > 1:\n",
    "                arr.append(1)\n",
    "            else:\n",
    "                arr.append(SRSI)\n",
    "        else:\n",
    "            arr.append(0)\n",
    "    return arr\n",
    "\n",
    "#Run SRSI for 10, 14, and 30 day periods\n",
    "SRSI_10 = SRSI(data,10)\n",
    "SRSI_14 = SRSI(data,14)\n",
    "SRSI_30 = SRSI(data,30)\n",
    "\n",
    "#Add SRSI to our dataframe\n",
    "data['SRSI_10'] = SRSI_10\n",
    "data['SRSI_14'] = SRSI_14\n",
    "data['SRSI_30'] = SRSI_30"
   ]
  },
  {
   "cell_type": "code",
   "execution_count": 32,
   "metadata": {
    "collapsed": true
   },
   "outputs": [],
   "source": [
    "# calculate Williams %R oscillator for each day\n",
    "\n",
    "def Williams(df,n):\n",
    "    m = len(df)\n",
    "    arr = []\n",
    "    for i in range(0,n-1):\n",
    "        arr.append('N')\n",
    "    for j in range(n-1,m):\n",
    "        maximum = max(data.High[(j-n+1):j+1])\n",
    "        minimum = min(data.Low[(j-n+1):j+1])\n",
    "        val = (-100)*(maximum-df.Close[j])/(maximum-minimum)\n",
    "        arr.append(val)\n",
    "    return arr\n",
    "\n",
    "\n",
    "williams = Williams(data,14)\n",
    "\n",
    "#Add Williams%R to our dataframe\n",
    "data['Williams'] = williams"
   ]
  },
  {
   "cell_type": "code",
   "execution_count": 33,
   "metadata": {
    "collapsed": true
   },
   "outputs": [],
   "source": [
    "# True Range\n",
    "# TR = MAX(high[today] - close[yesterday]) - MIN(low[today] - close[yesterday])\n",
    "def TR(df,n):\n",
    "    high = df.High[n]\n",
    "    low = df.Low[n]\n",
    "    close = df.Close[n-1]\n",
    "    l_max = list()\n",
    "    l_max.append(high)\n",
    "    l_max.append(close)\n",
    "    l_min = list()\n",
    "    l_min.append(low)\n",
    "    l_min.append(close)\n",
    "    return (max(l_max) - min(l_min))\n",
    "\n",
    "# Average True Range\n",
    "# Same as EMA except use TR in lieu of close (prevEMA = TR(dataframe,14days))\n",
    "def ATR(df,n):\n",
    "    m = len(df)\n",
    "    arr = []\n",
    "    prevEMA = TR(df,n+1)\n",
    "    for i in range(0,n):\n",
    "        arr.append('N')\n",
    "    for j in range(n,m):\n",
    "        TR_ = TR(df,j)\n",
    "        EMA = ((2/(n+1))*TR_) + ((1-(2/(n+1)))*prevEMA)\n",
    "        arr.append(EMA)\n",
    "        prevEMA = EMA\n",
    "    return arr\n",
    "\n",
    "ATR = ATR(data,14)  \n",
    "\n",
    "#Add ATR to our dataframe\n",
    "data['ATR_14'] = ATR"
   ]
  },
  {
   "cell_type": "code",
   "execution_count": 34,
   "metadata": {
    "collapsed": true
   },
   "outputs": [],
   "source": [
    "# calculate Commodity Channel Index (CCI) for each day\n",
    "\n",
    "import numpy as np\n",
    "def CCI(df,n):\n",
    "    m = len(df)\n",
    "    arr = []\n",
    "    tparr = []\n",
    "    for i in range(0,n-1):\n",
    "        arr.append('N')\n",
    "        tp = (df.High[i]+df.Low[i]+df.Close[i])/3\n",
    "        tparr.append(tp)\n",
    "    for j in range(n-1,m):\n",
    "        tp = (df.High[j]+df.Low[j]+df.Close[j])/3\n",
    "        tparr.append(tp) \n",
    "        tps = np.array(tparr[(j-n+1):(j+1)])\n",
    "        val = (tp-tps.mean())/(0.015*tps.std())\n",
    "        arr.append(val)\n",
    "    return arr\n",
    "\n",
    "cci = CCI(data,20) \n",
    "\n",
    "#Add CCI to our dataframe\n",
    "data['CCI'] = cci"
   ]
  },
  {
   "cell_type": "code",
   "execution_count": 35,
   "metadata": {
    "collapsed": false
   },
   "outputs": [
    {
     "data": {
      "text/plain": [
       "(1761, 22)"
      ]
     },
     "execution_count": 35,
     "metadata": {},
     "output_type": "execute_result"
    }
   ],
   "source": [
    "#double check that the dataframe has all 22 features\n",
    "data.shape"
   ]
  },
  {
   "cell_type": "code",
   "execution_count": 36,
   "metadata": {
    "collapsed": true
   },
   "outputs": [],
   "source": [
    "#def normalization function to clean data\n",
    "def normalize(df):\n",
    "    for column in df:\n",
    "        df[column]=((df[column]-df[column].mean())/df[column].std())"
   ]
  },
  {
   "cell_type": "code",
   "execution_count": 37,
   "metadata": {
    "collapsed": false
   },
   "outputs": [],
   "source": [
    "#def positive values for running Multinomial Naive Bayes\n",
    "def positivevalues(df):\n",
    "    for column in df:\n",
    "        if (df[column].min())<0:\n",
    "            df[column]=(df[column]-df[column].min())"
   ]
  },
  {
   "cell_type": "code",
   "execution_count": 38,
   "metadata": {
    "collapsed": false
   },
   "outputs": [
    {
     "data": {
      "text/html": [
       "<div>\n",
       "<style scoped>\n",
       "    .dataframe tbody tr th:only-of-type {\n",
       "        vertical-align: middle;\n",
       "    }\n",
       "\n",
       "    .dataframe tbody tr th {\n",
       "        vertical-align: top;\n",
       "    }\n",
       "\n",
       "    .dataframe thead th {\n",
       "        text-align: right;\n",
       "    }\n",
       "</style>\n",
       "<table border=\"1\" class=\"dataframe\">\n",
       "  <thead>\n",
       "    <tr style=\"text-align: right;\">\n",
       "      <th></th>\n",
       "      <th>Open</th>\n",
       "      <th>Close</th>\n",
       "      <th>Momentum</th>\n",
       "      <th>Return</th>\n",
       "      <th>10 Day ROI</th>\n",
       "      <th>20 Day ROI</th>\n",
       "      <th>30 Day ROI</th>\n",
       "      <th>10_day_RSI</th>\n",
       "      <th>14_day_RSI</th>\n",
       "      <th>30_day_RSI</th>\n",
       "      <th>EMA_12</th>\n",
       "      <th>EMA_26</th>\n",
       "      <th>MACD_12_26</th>\n",
       "      <th>SRSI_10</th>\n",
       "      <th>SRSI_14</th>\n",
       "      <th>SRSI_30</th>\n",
       "      <th>Williams</th>\n",
       "      <th>ATR_14</th>\n",
       "      <th>CCI</th>\n",
       "    </tr>\n",
       "    <tr>\n",
       "      <th>Date</th>\n",
       "      <th></th>\n",
       "      <th></th>\n",
       "      <th></th>\n",
       "      <th></th>\n",
       "      <th></th>\n",
       "      <th></th>\n",
       "      <th></th>\n",
       "      <th></th>\n",
       "      <th></th>\n",
       "      <th></th>\n",
       "      <th></th>\n",
       "      <th></th>\n",
       "      <th></th>\n",
       "      <th></th>\n",
       "      <th></th>\n",
       "      <th></th>\n",
       "      <th></th>\n",
       "      <th></th>\n",
       "      <th></th>\n",
       "    </tr>\n",
       "  </thead>\n",
       "  <tbody>\n",
       "    <tr>\n",
       "      <th>2011-02-15</th>\n",
       "      <td>1330.430054</td>\n",
       "      <td>1328.010010</td>\n",
       "      <td>3.44006</td>\n",
       "      <td>-0.003235</td>\n",
       "      <td>0.0156165</td>\n",
       "      <td>0.0254745</td>\n",
       "      <td>0.0441397</td>\n",
       "      <td>73.4499</td>\n",
       "      <td>65.5501</td>\n",
       "      <td>65.9001</td>\n",
       "      <td>1317.11</td>\n",
       "      <td>1304.25</td>\n",
       "      <td>12.865</td>\n",
       "      <td>0.508845</td>\n",
       "      <td>-4.41442</td>\n",
       "      <td>0</td>\n",
       "      <td>-8.55505</td>\n",
       "      <td>10.5278</td>\n",
       "      <td>97.6909</td>\n",
       "    </tr>\n",
       "    <tr>\n",
       "      <th>2011-02-16</th>\n",
       "      <td>1329.510010</td>\n",
       "      <td>1336.319946</td>\n",
       "      <td>15.4399</td>\n",
       "      <td>0.006257</td>\n",
       "      <td>0.0247616</td>\n",
       "      <td>0.0424363</td>\n",
       "      <td>0.0520548</td>\n",
       "      <td>83.4336</td>\n",
       "      <td>67.3001</td>\n",
       "      <td>68.0478</td>\n",
       "      <td>1320.07</td>\n",
       "      <td>1306.62</td>\n",
       "      <td>13.4445</td>\n",
       "      <td>0.819604</td>\n",
       "      <td>0.379723</td>\n",
       "      <td>0</td>\n",
       "      <td>-2.06373</td>\n",
       "      <td>10.4041</td>\n",
       "      <td>110.107</td>\n",
       "    </tr>\n",
       "    <tr>\n",
       "      <th>2011-02-17</th>\n",
       "      <td>1334.369995</td>\n",
       "      <td>1340.430054</td>\n",
       "      <td>18.5601</td>\n",
       "      <td>0.003076</td>\n",
       "      <td>0.0254993</td>\n",
       "      <td>0.0469983</td>\n",
       "      <td>0.0500329</td>\n",
       "      <td>83.7829</td>\n",
       "      <td>86.7448</td>\n",
       "      <td>67.6505</td>\n",
       "      <td>1323.2</td>\n",
       "      <td>1309.13</td>\n",
       "      <td>14.0731</td>\n",
       "      <td>0.830477</td>\n",
       "      <td>1</td>\n",
       "      <td>0.814993</td>\n",
       "      <td>-1.64607</td>\n",
       "      <td>10.4169</td>\n",
       "      <td>110.195</td>\n",
       "    </tr>\n",
       "    <tr>\n",
       "      <th>2011-02-18</th>\n",
       "      <td>1340.380005</td>\n",
       "      <td>1343.010010</td>\n",
       "      <td>13.86</td>\n",
       "      <td>0.001925</td>\n",
       "      <td>0.0245181</td>\n",
       "      <td>0.0464877</td>\n",
       "      <td>0.0542921</td>\n",
       "      <td>83.382</td>\n",
       "      <td>85.552</td>\n",
       "      <td>69.1261</td>\n",
       "      <td>1326.25</td>\n",
       "      <td>1311.64</td>\n",
       "      <td>14.611</td>\n",
       "      <td>0.817998</td>\n",
       "      <td>0.94372</td>\n",
       "      <td>1</td>\n",
       "      <td>-1.92961</td>\n",
       "      <td>9.82131</td>\n",
       "      <td>111.64</td>\n",
       "    </tr>\n",
       "    <tr>\n",
       "      <th>2011-02-22</th>\n",
       "      <td>1338.910034</td>\n",
       "      <td>1315.439941</td>\n",
       "      <td>-16.88</td>\n",
       "      <td>-0.020529</td>\n",
       "      <td>-0.0027369</td>\n",
       "      <td>0.0190573</td>\n",
       "      <td>0.0345576</td>\n",
       "      <td>47.327</td>\n",
       "      <td>54.5581</td>\n",
       "      <td>60.664</td>\n",
       "      <td>1324.58</td>\n",
       "      <td>1311.92</td>\n",
       "      <td>12.6667</td>\n",
       "      <td>-0.304278</td>\n",
       "      <td>-0.518618</td>\n",
       "      <td>-1.62306</td>\n",
       "      <td>-58.1438</td>\n",
       "      <td>12.6025</td>\n",
       "      <td>34.2949</td>\n",
       "    </tr>\n",
       "  </tbody>\n",
       "</table>\n",
       "</div>"
      ],
      "text/plain": [
       "                   Open        Close Momentum    Return 10 Day ROI 20 Day ROI  \\\n",
       "Date                                                                            \n",
       "2011-02-15  1330.430054  1328.010010  3.44006 -0.003235  0.0156165  0.0254745   \n",
       "2011-02-16  1329.510010  1336.319946  15.4399  0.006257  0.0247616  0.0424363   \n",
       "2011-02-17  1334.369995  1340.430054  18.5601  0.003076  0.0254993  0.0469983   \n",
       "2011-02-18  1340.380005  1343.010010    13.86  0.001925  0.0245181  0.0464877   \n",
       "2011-02-22  1338.910034  1315.439941   -16.88 -0.020529 -0.0027369  0.0190573   \n",
       "\n",
       "           30 Day ROI 10_day_RSI 14_day_RSI 30_day_RSI   EMA_12   EMA_26  \\\n",
       "Date                                                                       \n",
       "2011-02-15  0.0441397    73.4499    65.5501    65.9001  1317.11  1304.25   \n",
       "2011-02-16  0.0520548    83.4336    67.3001    68.0478  1320.07  1306.62   \n",
       "2011-02-17  0.0500329    83.7829    86.7448    67.6505   1323.2  1309.13   \n",
       "2011-02-18  0.0542921     83.382     85.552    69.1261  1326.25  1311.64   \n",
       "2011-02-22  0.0345576     47.327    54.5581     60.664  1324.58  1311.92   \n",
       "\n",
       "           MACD_12_26   SRSI_10   SRSI_14   SRSI_30 Williams   ATR_14      CCI  \n",
       "Date                                                                            \n",
       "2011-02-15     12.865  0.508845  -4.41442         0 -8.55505  10.5278  97.6909  \n",
       "2011-02-16    13.4445  0.819604  0.379723         0 -2.06373  10.4041  110.107  \n",
       "2011-02-17    14.0731  0.830477         1  0.814993 -1.64607  10.4169  110.195  \n",
       "2011-02-18     14.611  0.817998   0.94372         1 -1.92961  9.82131   111.64  \n",
       "2011-02-22    12.6667 -0.304278 -0.518618  -1.62306 -58.1438  12.6025  34.2949  "
      ]
     },
     "execution_count": 38,
     "metadata": {},
     "output_type": "execute_result"
    }
   ],
   "source": [
    "#Remove the first 30 index which could have a value 'N'\n",
    "newdata=data.drop(data.index[0:30])\n",
    "\n",
    "#Remove the last row of data because class has value 'N'\n",
    "newdata=newdata.drop(newdata.index[-1])\n",
    "\n",
    "#Remove 'High' and 'Low' columns to improve the algorithm\n",
    "newdata=newdata.drop(['High','Low'], axis=1)\n",
    "\n",
    "#Remove our 'Class' column because it acts as y in our algorithms \n",
    "newdata=newdata.drop(['Class'], axis=1)\n",
    "\n",
    "#check the features that remain in our algorithm \n",
    "newdata.head()"
   ]
  },
  {
   "cell_type": "code",
   "execution_count": 39,
   "metadata": {
    "collapsed": false
   },
   "outputs": [],
   "source": [
    "#Normalize the data that we have filtered\n",
    "normalize(newdata)\n",
    "\n"
   ]
  },
  {
   "cell_type": "code",
   "execution_count": 40,
   "metadata": {
    "collapsed": false
   },
   "outputs": [],
   "source": [
    "#Put the dataframe with our relevant features into X and our class into our y\n",
    "X=newdata\n",
    "y=clas[30:-1]\n"
   ]
  },
  {
   "cell_type": "code",
   "execution_count": 41,
   "metadata": {
    "collapsed": false
   },
   "outputs": [],
   "source": [
    "#Split up our test and train by splitting 70%/30%\n",
    "\n",
    "X_train=X.drop(X.index[1211:])\n",
    "X_test=X.drop(X.index[0:1211])\n",
    "y_train=y[0:1211]\n",
    "y_test=y[1211:]"
   ]
  },
  {
   "cell_type": "code",
   "execution_count": 42,
   "metadata": {
    "collapsed": false
   },
   "outputs": [
    {
     "data": {
      "text/plain": [
       "LogisticRegression(C=1.0, class_weight=None, dual=False, fit_intercept=True,\n",
       "          intercept_scaling=1, max_iter=100, multi_class='ovr', n_jobs=1,\n",
       "          penalty='l2', random_state=None, solver='liblinear', tol=0.0001,\n",
       "          verbose=0, warm_start=False)"
      ]
     },
     "execution_count": 42,
     "metadata": {},
     "output_type": "execute_result"
    }
   ],
   "source": [
    "#Import and run Logistic Regression and run a fit to train the model\n",
    "from sklearn.linear_model import LogisticRegression\n",
    "\n",
    "LR=LogisticRegression()\n",
    "LR.fit(X_train,y_train)"
   ]
  },
  {
   "cell_type": "code",
   "execution_count": 43,
   "metadata": {
    "collapsed": false
   },
   "outputs": [],
   "source": [
    "#Predict the y test \n",
    "y_pred_LR=LR.predict(X_test)"
   ]
  },
  {
   "cell_type": "code",
   "execution_count": 44,
   "metadata": {
    "collapsed": false
   },
   "outputs": [
    {
     "name": "stdout",
     "output_type": "stream",
     "text": [
      "0.7533718689788054\n"
     ]
    }
   ],
   "source": [
    "#Print the accuracy score of our predicted y using metrics from sklearn\n",
    "from sklearn import metrics\n",
    "print (metrics.accuracy_score(y_test, y_pred_LR)) "
   ]
  },
  {
   "cell_type": "code",
   "execution_count": 45,
   "metadata": {
    "collapsed": false
   },
   "outputs": [
    {
     "name": "stdout",
     "output_type": "stream",
     "text": [
      "[[ 0.0663789   0.04552574 -0.11463873 -0.05484435  0.14941271 -0.08892634\n",
      "   0.18438957 -0.23109521  0.08222419 -0.27313546 -0.10708692 -0.10552277\n",
      "  -0.06729905  0.05599322 -0.19256573  0.11993773 -0.22080505  0.19082512\n",
      "   0.23531149]]\n"
     ]
    }
   ],
   "source": [
    "print(LR.coef_)"
   ]
  },
  {
   "cell_type": "code",
   "execution_count": 46,
   "metadata": {
    "collapsed": false
   },
   "outputs": [
    {
     "data": {
      "text/plain": [
       "GaussianNB(priors=None)"
      ]
     },
     "execution_count": 46,
     "metadata": {},
     "output_type": "execute_result"
    }
   ],
   "source": [
    "#Import and run Gaussian Naive Bayes and run a fit to train the model\n",
    "from sklearn.naive_bayes import GaussianNB\n",
    "\n",
    "GNB = GaussianNB()\n",
    "GNB.fit(X_train,y_train)"
   ]
  },
  {
   "cell_type": "code",
   "execution_count": 47,
   "metadata": {
    "collapsed": false
   },
   "outputs": [],
   "source": [
    "#Predict the y test\n",
    "y_pred=GNB.predict(X_test)"
   ]
  },
  {
   "cell_type": "code",
   "execution_count": 48,
   "metadata": {
    "collapsed": false
   },
   "outputs": [
    {
     "name": "stdout",
     "output_type": "stream",
     "text": [
      "0.7263969171483622\n"
     ]
    }
   ],
   "source": [
    "#Print the accuracy score of our predicted y using metrics from sklearn\n",
    "from sklearn import metrics\n",
    "print (metrics.accuracy_score(y_test, y_pred)) "
   ]
  },
  {
   "cell_type": "code",
   "execution_count": null,
   "metadata": {
    "collapsed": true
   },
   "outputs": [],
   "source": []
  }
 ],
 "metadata": {
  "kernelspec": {
   "display_name": "Python [default]",
   "language": "python",
   "name": "python3"
  },
  "language_info": {
   "codemirror_mode": {
    "name": "ipython",
    "version": 3
   },
   "file_extension": ".py",
   "mimetype": "text/x-python",
   "name": "python",
   "nbconvert_exporter": "python",
   "pygments_lexer": "ipython3",
   "version": "3.6.0"
  }
 },
 "nbformat": 4,
 "nbformat_minor": 2
}
